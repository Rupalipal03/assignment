{
 "cells": [
  {
   "cell_type": "code",
   "execution_count": 1,
   "id": "832cca98-c930-4596-9fc0-2d64f8d86353",
   "metadata": {},
   "outputs": [],
   "source": [
    "d={}"
   ]
  },
  {
   "cell_type": "code",
   "execution_count": 2,
   "id": "abeac499-993f-4ca3-ae88-b13b18c169de",
   "metadata": {},
   "outputs": [
    {
     "data": {
      "text/plain": [
       "dict"
      ]
     },
     "execution_count": 2,
     "metadata": {},
     "output_type": "execute_result"
    }
   ],
   "source": [
    "type(d)"
   ]
  },
  {
   "cell_type": "code",
   "execution_count": 3,
   "id": "dfc914a7-c4e6-4267-a998-25bdd8aba84f",
   "metadata": {},
   "outputs": [],
   "source": [
    "d={'name':\"vandana\"}"
   ]
  },
  {
   "cell_type": "code",
   "execution_count": 4,
   "id": "9556ed10-7c75-4cd9-b81b-ef35de63df4a",
   "metadata": {},
   "outputs": [
    {
     "data": {
      "text/plain": [
       "{'name': 'vandana'}"
      ]
     },
     "execution_count": 4,
     "metadata": {},
     "output_type": "execute_result"
    }
   ],
   "source": [
    "d"
   ]
  },
  {
   "cell_type": "code",
   "execution_count": 8,
   "id": "a0de1692-b028-4dcf-ba2e-9d1d1b0756ce",
   "metadata": {},
   "outputs": [],
   "source": [
    "d3={45:\"cds\",'@jkl':\"fdfv\"}"
   ]
  },
  {
   "cell_type": "code",
   "execution_count": 9,
   "id": "82038b37-7f58-40b1-92f5-26f340e45141",
   "metadata": {},
   "outputs": [
    {
     "data": {
      "text/plain": [
       "{45: 'cds', '@jkl': 'fdfv'}"
      ]
     },
     "execution_count": 9,
     "metadata": {},
     "output_type": "execute_result"
    }
   ],
   "source": [
    "d3"
   ]
  },
  {
   "cell_type": "code",
   "execution_count": 11,
   "id": "d0ad57a2-2628-4452-83ac-9b777d25ec34",
   "metadata": {},
   "outputs": [
    {
     "data": {
      "text/plain": [
       "'cds'"
      ]
     },
     "execution_count": 11,
     "metadata": {},
     "output_type": "execute_result"
    }
   ],
   "source": [
    "d3[45]"
   ]
  },
  {
   "cell_type": "code",
   "execution_count": 17,
   "id": "63a254f2-5730-4a9a-a78e-344f4be3f4a4",
   "metadata": {},
   "outputs": [],
   "source": [
    "d4={'name':\"vandana\",'gmail':\"hjnjn@gmail\",\"name\":\"rupali\"}"
   ]
  },
  {
   "cell_type": "code",
   "execution_count": 20,
   "id": "25460c0f-e129-43b8-9d37-593ac8f609da",
   "metadata": {},
   "outputs": [
    {
     "data": {
      "text/plain": [
       "'rupali'"
      ]
     },
     "execution_count": 20,
     "metadata": {},
     "output_type": "execute_result"
    }
   ],
   "source": [
    "d4['name']"
   ]
  },
  {
   "cell_type": "code",
   "execution_count": 23,
   "id": "92c00de8-457e-42a1-b74e-b6042716f982",
   "metadata": {},
   "outputs": [],
   "source": [
    "d5={'company':\"pwskills\",'courses':[\"web dev\",\"ds\",\"system des\"]}"
   ]
  },
  {
   "cell_type": "code",
   "execution_count": 26,
   "id": "14718eef-f2d3-4f56-af04-41ce91f69f78",
   "metadata": {},
   "outputs": [
    {
     "data": {
      "text/plain": [
       "'system des'"
      ]
     },
     "execution_count": 26,
     "metadata": {},
     "output_type": "execute_result"
    }
   ],
   "source": [
    "d5['courses'][2]"
   ]
  },
  {
   "cell_type": "code",
   "execution_count": 27,
   "id": "456fc50f-d4f7-43b8-b7e6-668f009c7a39",
   "metadata": {},
   "outputs": [],
   "source": [
    "d6={\"number\":[67576,68,87,8],\"assignment\":(2,3,3,54,3),\"class_time\":{\"webdev\":7,\"java\":6}}"
   ]
  },
  {
   "cell_type": "code",
   "execution_count": 29,
   "id": "13b93f1f-830d-4b01-a4bc-e3c1c4753da9",
   "metadata": {},
   "outputs": [
    {
     "data": {
      "text/plain": [
       "{'number': [67576, 68, 87, 8],\n",
       " 'assignment': (2, 3, 3, 54, 3),\n",
       " 'class_time': {'webdev': 7, 'java': 6}}"
      ]
     },
     "execution_count": 29,
     "metadata": {},
     "output_type": "execute_result"
    }
   ],
   "source": [
    "d6"
   ]
  },
  {
   "cell_type": "code",
   "execution_count": 30,
   "id": "3437d5c6-e0d4-471a-9ae9-b06d6463c03d",
   "metadata": {},
   "outputs": [
    {
     "data": {
      "text/plain": [
       "6"
      ]
     },
     "execution_count": 30,
     "metadata": {},
     "output_type": "execute_result"
    }
   ],
   "source": [
    "d6['class_time']['java']"
   ]
  },
  {
   "cell_type": "code",
   "execution_count": 38,
   "id": "c5af181a-c26c-497f-abaf-6b41ccf82793",
   "metadata": {},
   "outputs": [],
   "source": [
    "d6['mentor']=[\"ram\",\"krish\"]"
   ]
  },
  {
   "cell_type": "code",
   "execution_count": 39,
   "id": "27149db7-e2ea-480a-ae85-1b7e9f30c15b",
   "metadata": {},
   "outputs": [
    {
     "data": {
      "text/plain": [
       "{'number': [67576, 68, 87, 8],\n",
       " 'assignment': (2, 3, 3, 54, 3),\n",
       " 'class_time': {'webdev': 7, 'java': 6},\n",
       " 'mentor': ['ram', 'krish']}"
      ]
     },
     "execution_count": 39,
     "metadata": {},
     "output_type": "execute_result"
    }
   ],
   "source": [
    "d6"
   ]
  },
  {
   "cell_type": "code",
   "execution_count": 44,
   "id": "61109ed6-0b84-479a-acb0-dc3dea7dbce0",
   "metadata": {},
   "outputs": [],
   "source": [
    "del d6['number']"
   ]
  },
  {
   "cell_type": "code",
   "execution_count": 45,
   "id": "e750a378-5e85-4a0f-a501-76d51b2a85e9",
   "metadata": {},
   "outputs": [
    {
     "data": {
      "text/plain": [
       "{'class_time': {'webdev': 7, 'java': 6}, 'mentor': ['ram', 'krish']}"
      ]
     },
     "execution_count": 45,
     "metadata": {},
     "output_type": "execute_result"
    }
   ],
   "source": [
    "d6"
   ]
  },
  {
   "cell_type": "code",
   "execution_count": 59,
   "id": "bfb768be-b031-46f7-913f-b4e06ed2aa81",
   "metadata": {},
   "outputs": [
    {
     "ename": "KeyError",
     "evalue": "'mentor'",
     "output_type": "error",
     "traceback": [
      "\u001b[1;31m---------------------------------------------------------------------------\u001b[0m",
      "\u001b[1;31mKeyError\u001b[0m                                  Traceback (most recent call last)",
      "Cell \u001b[1;32mIn[59], line 1\u001b[0m\n\u001b[1;32m----> 1\u001b[0m \u001b[38;5;28;01mdel\u001b[39;00m \u001b[43md6\u001b[49m\u001b[43m[\u001b[49m\u001b[38;5;124;43m'\u001b[39;49m\u001b[38;5;124;43mmentor\u001b[39;49m\u001b[38;5;124;43m'\u001b[39;49m\u001b[43m]\u001b[49m\n",
      "\u001b[1;31mKeyError\u001b[0m: 'mentor'"
     ]
    }
   ],
   "source": [
    "del d6['mentor']"
   ]
  },
  {
   "cell_type": "code",
   "execution_count": 57,
   "id": "e469027f-2083-4d10-b782-c89fd88578ee",
   "metadata": {},
   "outputs": [
    {
     "ename": "KeyError",
     "evalue": "'class_time'",
     "output_type": "error",
     "traceback": [
      "\u001b[1;31m---------------------------------------------------------------------------\u001b[0m",
      "\u001b[1;31mKeyError\u001b[0m                                  Traceback (most recent call last)",
      "Cell \u001b[1;32mIn[57], line 1\u001b[0m\n\u001b[1;32m----> 1\u001b[0m \u001b[38;5;28;01mdel\u001b[39;00m \u001b[43md6\u001b[49m\u001b[43m[\u001b[49m\u001b[38;5;124;43m'\u001b[39;49m\u001b[38;5;124;43mclass_time\u001b[39;49m\u001b[38;5;124;43m'\u001b[39;49m\u001b[43m]\u001b[49m\n",
      "\u001b[1;31mKeyError\u001b[0m: 'class_time'"
     ]
    }
   ],
   "source": [
    "del d6['class_time']"
   ]
  },
  {
   "cell_type": "code",
   "execution_count": 58,
   "id": "cd31eb2d-9328-4e91-a2a8-3fd14ecd2342",
   "metadata": {},
   "outputs": [
    {
     "data": {
      "text/plain": [
       "dict_keys([])"
      ]
     },
     "execution_count": 58,
     "metadata": {},
     "output_type": "execute_result"
    }
   ],
   "source": [
    "d6.keys()"
   ]
  },
  {
   "cell_type": "code",
   "execution_count": 50,
   "id": "3bff50fc-1d13-4346-81d6-981662ffe475",
   "metadata": {},
   "outputs": [
    {
     "data": {
      "text/plain": [
       "dict_values([])"
      ]
     },
     "execution_count": 50,
     "metadata": {},
     "output_type": "execute_result"
    }
   ],
   "source": [
    "d6.values()"
   ]
  },
  {
   "cell_type": "code",
   "execution_count": 52,
   "id": "b166497e-f9f4-475f-9969-12adf62fd96d",
   "metadata": {},
   "outputs": [
    {
     "data": {
      "text/plain": [
       "[]"
      ]
     },
     "execution_count": 52,
     "metadata": {},
     "output_type": "execute_result"
    }
   ],
   "source": [
    "list(d6.keys())"
   ]
  },
  {
   "cell_type": "code",
   "execution_count": 53,
   "id": "5f7eb048-5e89-409d-a201-8b1bd9a82346",
   "metadata": {},
   "outputs": [
    {
     "data": {
      "text/plain": [
       "[]"
      ]
     },
     "execution_count": 53,
     "metadata": {},
     "output_type": "execute_result"
    }
   ],
   "source": [
    "list(d6.values())"
   ]
  },
  {
   "cell_type": "code",
   "execution_count": 54,
   "id": "f98b6aa4-d855-403c-9dc8-ba2ef3067f2b",
   "metadata": {},
   "outputs": [
    {
     "data": {
      "text/plain": [
       "[]"
      ]
     },
     "execution_count": 54,
     "metadata": {},
     "output_type": "execute_result"
    }
   ],
   "source": [
    "list(d6.items())"
   ]
  },
  {
   "cell_type": "code",
   "execution_count": 60,
   "id": "ecd9d950-2406-432e-ba25-f5b8726cf570",
   "metadata": {},
   "outputs": [],
   "source": [
    "d7={'dsacs':\"dscds\",'sadxa':\"sdxasd\",545:\"dfe\"}"
   ]
  },
  {
   "cell_type": "code",
   "execution_count": 61,
   "id": "6ff60ea4-ae50-4fdd-8a72-17bd9403426c",
   "metadata": {},
   "outputs": [
    {
     "data": {
      "text/plain": [
       "dict_keys(['dsacs', 'sadxa', 545])"
      ]
     },
     "execution_count": 61,
     "metadata": {},
     "output_type": "execute_result"
    }
   ],
   "source": [
    "d7.keys()"
   ]
  },
  {
   "cell_type": "code",
   "execution_count": 62,
   "id": "954a7db3-37e8-48db-906c-7a54a803b09a",
   "metadata": {},
   "outputs": [
    {
     "data": {
      "text/plain": [
       "dict_values(['dscds', 'sdxasd', 'dfe'])"
      ]
     },
     "execution_count": 62,
     "metadata": {},
     "output_type": "execute_result"
    }
   ],
   "source": [
    "d7.values()"
   ]
  },
  {
   "cell_type": "code",
   "execution_count": 63,
   "id": "76910d4c-fcb1-4905-9431-fe3c6863a4c5",
   "metadata": {},
   "outputs": [
    {
     "data": {
      "text/plain": [
       "['dsacs', 'sadxa', 545]"
      ]
     },
     "execution_count": 63,
     "metadata": {},
     "output_type": "execute_result"
    }
   ],
   "source": [
    "list(d7.keys())"
   ]
  },
  {
   "cell_type": "code",
   "execution_count": 65,
   "id": "02819948-802c-47a8-b4e2-54c57fa4c792",
   "metadata": {},
   "outputs": [
    {
     "data": {
      "text/plain": [
       "'dscds'"
      ]
     },
     "execution_count": 65,
     "metadata": {},
     "output_type": "execute_result"
    }
   ],
   "source": [
    "d7.pop('dsacs')"
   ]
  },
  {
   "cell_type": "code",
   "execution_count": 66,
   "id": "f656e3d2-e959-4a83-a674-3a38bb31ebf1",
   "metadata": {},
   "outputs": [
    {
     "data": {
      "text/plain": [
       "{'sadxa': 'sdxasd', 545: 'dfe'}"
      ]
     },
     "execution_count": 66,
     "metadata": {},
     "output_type": "execute_result"
    }
   ],
   "source": [
    "d7"
   ]
  },
  {
   "cell_type": "code",
   "execution_count": 76,
   "id": "98130c9f-c815-4b4d-8572-e17576735a22",
   "metadata": {},
   "outputs": [
    {
     "name": "stdin",
     "output_type": "stream",
     "text": [
      "Enter your marks  70\n"
     ]
    },
    {
     "name": "stdout",
     "output_type": "stream",
     "text": [
      "you will be a part of A1 batch\n"
     ]
    }
   ],
   "source": [
    "marks=int(input(\"Enter your marks \"))\n",
    "if marks >= 80:\n",
    "    print(\"you will be a part of a batch\")\n",
    "elif marks >=60 and marks<80:\n",
    "    print(\"you will be a part of A1 batch\")\n",
    "else:\n",
    "    print(\"You will a part of A2 batch\")\n"
   ]
  },
  {
   "cell_type": "code",
   "execution_count": 81,
   "id": "7d22c467-a4b2-4844-ba26-c3fe4a9399d0",
   "metadata": {},
   "outputs": [
    {
     "name": "stdin",
     "output_type": "stream",
     "text": [
      "Enter product orice  65\n"
     ]
    },
    {
     "name": "stdout",
     "output_type": "stream",
     "text": [
      "it is ok\n"
     ]
    }
   ],
   "source": [
    "price=int(input(\"Enter product price \"))\n",
    "if price>=90:\n",
    "    print(\"it us costly\")\n",
    "elif price>=60 and price<90:\n",
    "    print(\"it is ok\")\n",
    "else:\n",
    "    print(\"it is cheap\")"
   ]
  },
  {
   "cell_type": "code",
   "execution_count": 85,
   "id": "f3c0c114-9cbe-4f4d-a3da-7ce0bf07ea73",
   "metadata": {},
   "outputs": [
    {
     "name": "stdin",
     "output_type": "stream",
     "text": [
      "enter your price  800\n"
     ]
    },
    {
     "name": "stdout",
     "output_type": "stream",
     "text": [
      "I will purchase\n"
     ]
    }
   ],
   "source": [
    "price=int(input(\"enter your price \"))\n",
    "if price>1000:\n",
    "    print(\"I will not purchase\")\n",
    "    if price>6000:\n",
    "        print(\"it is too much\")\n",
    "    elif price<2000:\n",
    "        print(\"It's ok\")\n",
    "elif price<1000:\n",
    "    print(\"I will purchase\")\n",
    "else:\n",
    "    print(\"not interested\")"
   ]
  },
  {
   "cell_type": "code",
   "execution_count": 86,
   "id": "72cef45c-cc92-4e47-932e-9b47795a2058",
   "metadata": {},
   "outputs": [],
   "source": [
    "l=[1,3,4,5,6,7,8]"
   ]
  },
  {
   "cell_type": "code",
   "execution_count": 95,
   "id": "2153b535-bbaa-4154-85ff-bda6584dc0dd",
   "metadata": {},
   "outputs": [
    {
     "name": "stdout",
     "output_type": "stream",
     "text": [
      "1\n",
      "3\n",
      "4\n",
      "5\n",
      "6\n",
      "7\n",
      "8\n"
     ]
    },
    {
     "data": {
      "text/plain": [
       "[2, 4, 5, 6, 7, 8, 9]"
      ]
     },
     "execution_count": 95,
     "metadata": {},
     "output_type": "execute_result"
    }
   ],
   "source": [
    "l1=[]\n",
    "for i in l:\n",
    "    print(i)\n",
    "    l1.append(i+1) \n",
    "l1"
   ]
  },
  {
   "cell_type": "code",
   "execution_count": 98,
   "id": "0776b457-5d60-48fa-9805-b80ae067a84d",
   "metadata": {},
   "outputs": [
    {
     "name": "stdout",
     "output_type": "stream",
     "text": [
      "dcsd'\n",
      "fefs\n",
      "erfers\n"
     ]
    }
   ],
   "source": [
    "l2=[]\n",
    "m=[\"dcsd'\",\"fefs\",\"erfers\"]\n",
    "for i in m:\n",
    "    print(i)\n",
    "    l2.append(i.upper())\n",
    "\n"
   ]
  },
  {
   "cell_type": "code",
   "execution_count": 99,
   "id": "f5c80427-8722-48c9-8ce5-ef94c53db23b",
   "metadata": {},
   "outputs": [
    {
     "data": {
      "text/plain": [
       "[\"DCSD'\", 'FEFS', 'ERFERS']"
      ]
     },
     "execution_count": 99,
     "metadata": {},
     "output_type": "execute_result"
    }
   ],
   "source": [
    "l2"
   ]
  },
  {
   "cell_type": "code",
   "execution_count": null,
   "id": "c6f6bdaa-49bc-4a0b-a8f9-31d5c33e5f8a",
   "metadata": {},
   "outputs": [],
   "source": [
    "l=[\"dcvx\",345,\"dfdsf\",564,\"ferg\",1,2,3]\n"
   ]
  }
 ],
 "metadata": {
  "kernelspec": {
   "display_name": "Python 3 (ipykernel)",
   "language": "python",
   "name": "python3"
  },
  "language_info": {
   "codemirror_mode": {
    "name": "ipython",
    "version": 3
   },
   "file_extension": ".py",
   "mimetype": "text/x-python",
   "name": "python",
   "nbconvert_exporter": "python",
   "pygments_lexer": "ipython3",
   "version": "3.11.4"
  }
 },
 "nbformat": 4,
 "nbformat_minor": 5
}
