{
 "cells": [
  {
   "cell_type": "code",
   "execution_count": 1,
   "id": "b12230a0-0ee1-45f4-b6de-bfa34d6a7da0",
   "metadata": {},
   "outputs": [],
   "source": [
    "l=[1,2,3,4,5]"
   ]
  },
  {
   "cell_type": "code",
   "execution_count": 3,
   "id": "b3aaf5b2-d038-4c45-9caa-2c0f5e6111be",
   "metadata": {},
   "outputs": [
    {
     "name": "stdout",
     "output_type": "stream",
     "text": [
      "1\n",
      "2\n",
      "3\n",
      "4\n",
      "5\n"
     ]
    }
   ],
   "source": [
    "for i in l:\n",
    "    print(i)"
   ]
  },
  {
   "cell_type": "code",
   "execution_count": 7,
   "id": "60ac5ac6-4555-4f3e-a17e-6a8acaaf6a32",
   "metadata": {},
   "outputs": [
    {
     "name": "stdout",
     "output_type": "stream",
     "text": [
      "sudh <class 'str'>\n",
      "vandana <class 'str'>\n",
      "ram <class 'str'>\n",
      "gita <class 'str'>\n",
      "kabir <class 'str'>\n",
      "do nothing\n"
     ]
    }
   ],
   "source": [
    "l1=[\"sudh\",\"vandana\",\"ram\",\"gita\",\"kabir\"]\n",
    "for i in l1:\n",
    "    print(i,type(i))\n",
    "else:\n",
    "    print(\"do nothing\")"
   ]
  },
  {
   "cell_type": "code",
   "execution_count": 8,
   "id": "ce5882c7-4baa-4ee6-aa70-bfa99aef56d6",
   "metadata": {},
   "outputs": [
    {
     "data": {
      "text/plain": [
       "['sudh', 'vandana', 'ram', 'gita', 'kabir']"
      ]
     },
     "execution_count": 8,
     "metadata": {},
     "output_type": "execute_result"
    }
   ],
   "source": [
    "l1"
   ]
  },
  {
   "cell_type": "code",
   "execution_count": 12,
   "id": "be4f02ee-bfd9-454b-a9af-57225af260da",
   "metadata": {},
   "outputs": [
    {
     "name": "stdout",
     "output_type": "stream",
     "text": [
      "sudh\n"
     ]
    }
   ],
   "source": [
    "for i in l1:\n",
    "    if i==\"vandana\":\n",
    "        break\n",
    "    print(i)\n",
    "    "
   ]
  },
  {
   "cell_type": "code",
   "execution_count": 15,
   "id": "f048c975-60b6-4a58-a00a-569f63eeb3be",
   "metadata": {},
   "outputs": [
    {
     "name": "stdout",
     "output_type": "stream",
     "text": [
      "sudh\n"
     ]
    }
   ],
   "source": [
    "for i in l1:\n",
    "    if i==\"vandana\":\n",
    "        break\n",
    "    print(i)\n",
    "else:\n",
    "    print(\"do nothing\") //excute this if fo rloop is able to complete"
   ]
  },
  {
   "cell_type": "code",
   "execution_count": 16,
   "id": "b9d9a6d3-bb43-4bed-bfd0-75b2aba6d3c1",
   "metadata": {},
   "outputs": [
    {
     "name": "stdout",
     "output_type": "stream",
     "text": [
      "sudh\n",
      "ram\n",
      "gita\n",
      "kabir\n"
     ]
    }
   ],
   "source": [
    "for i in l1:\n",
    "    if i==\"vandana\":\n",
    "        continue\n",
    "    print(i)"
   ]
  },
  {
   "cell_type": "code",
   "execution_count": 18,
   "id": "91c17824-b32f-46f0-aa13-9b2bb00b267a",
   "metadata": {},
   "outputs": [
    {
     "name": "stdout",
     "output_type": "stream",
     "text": [
      "sudh\n",
      "ram\n",
      "gita\n",
      "kabir\n",
      "excute this if for loop is complete\n"
     ]
    }
   ],
   "source": [
    "for i in l1:\n",
    "    if i==\"vandana\":\n",
    "        continue\n",
    "    print(i)\n",
    "else:\n",
    "    print(\"excute this if for loop is complete\")"
   ]
  },
  {
   "cell_type": "code",
   "execution_count": 19,
   "id": "16bd453c-ccd2-48cb-9529-f04556782ba2",
   "metadata": {},
   "outputs": [
    {
     "data": {
      "text/plain": [
       "[0, 1, 2, 3, 4]"
      ]
     },
     "execution_count": 19,
     "metadata": {},
     "output_type": "execute_result"
    }
   ],
   "source": [
    "list(range(0,5))"
   ]
  },
  {
   "cell_type": "code",
   "execution_count": 20,
   "id": "b29c8d01-ecbe-4d48-88b1-0cccd0df6b1a",
   "metadata": {},
   "outputs": [
    {
     "data": {
      "text/plain": [
       "[0, 2, 4, 6, 8]"
      ]
     },
     "execution_count": 20,
     "metadata": {},
     "output_type": "execute_result"
    }
   ],
   "source": [
    "list(range(0,10,2))"
   ]
  },
  {
   "cell_type": "code",
   "execution_count": 21,
   "id": "77c5b21f-3124-46a9-a6e7-6a6c8ac62715",
   "metadata": {},
   "outputs": [
    {
     "data": {
      "text/plain": [
       "[-10, -7, -4, -1, 2, 5, 8, 11, 14, 17]"
      ]
     },
     "execution_count": 21,
     "metadata": {},
     "output_type": "execute_result"
    }
   ],
   "source": [
    "list(range(-10,20,3))"
   ]
  },
  {
   "cell_type": "code",
   "execution_count": 22,
   "id": "ddfff2de-5df2-4b39-a97f-6807491bf56e",
   "metadata": {},
   "outputs": [
    {
     "data": {
      "text/plain": [
       "5"
      ]
     },
     "execution_count": 22,
     "metadata": {},
     "output_type": "execute_result"
    }
   ],
   "source": [
    "len(l1)"
   ]
  },
  {
   "cell_type": "code",
   "execution_count": 23,
   "id": "73bce4b7-870d-416b-8d69-bebfa7866394",
   "metadata": {},
   "outputs": [
    {
     "name": "stdout",
     "output_type": "stream",
     "text": [
      "sudh\n",
      "vandana\n",
      "ram\n",
      "gita\n",
      "kabir\n"
     ]
    }
   ],
   "source": [
    "for i in range(len(l1)):\n",
    "    print(l1[i])"
   ]
  },
  {
   "cell_type": "code",
   "execution_count": 32,
   "id": "be727da9-63d6-47b2-b935-e2e606fd24e7",
   "metadata": {},
   "outputs": [
    {
     "name": "stdout",
     "output_type": "stream",
     "text": [
      "kabir\n",
      "gita\n",
      "ram\n",
      "vandana\n",
      "sudh\n"
     ]
    }
   ],
   "source": [
    "for i in range(len(l1)-1,-1,-1):\n",
    "    print(l1[i])\n",
    "    "
   ]
  },
  {
   "cell_type": "code",
   "execution_count": 33,
   "id": "ea0a71b7-3669-4b8b-901e-e2b34725ecff",
   "metadata": {},
   "outputs": [],
   "source": [
    "l2=[432,434,56,54,43,33,87,55,33,23]"
   ]
  },
  {
   "cell_type": "code",
   "execution_count": 35,
   "id": "b82d8018-f739-4793-8791-7efb1a0972b5",
   "metadata": {},
   "outputs": [
    {
     "data": {
      "text/plain": [
       "[0, 2, 4, 6, 8]"
      ]
     },
     "execution_count": 35,
     "metadata": {},
     "output_type": "execute_result"
    }
   ],
   "source": [
    "list(range(0,len(l2),2))"
   ]
  },
  {
   "cell_type": "code",
   "execution_count": 36,
   "id": "34e4fdcb-a78f-4ca5-9a95-a0ccb9e18665",
   "metadata": {},
   "outputs": [
    {
     "name": "stdout",
     "output_type": "stream",
     "text": [
      "432\n",
      "56\n",
      "43\n",
      "87\n",
      "33\n"
     ]
    }
   ],
   "source": [
    "for i in range(0,len(l2),2):\n",
    "    print(l2[i])"
   ]
  },
  {
   "cell_type": "code",
   "execution_count": 38,
   "id": "82e938c1-8ae7-4169-b310-6e0eca7ca3c3",
   "metadata": {},
   "outputs": [
    {
     "name": "stdout",
     "output_type": "stream",
     "text": [
      "1250\n"
     ]
    }
   ],
   "source": [
    "sum=0\n",
    "for i in l2:\n",
    "    sum=sum+i\n",
    "print(sum)"
   ]
  },
  {
   "cell_type": "code",
   "execution_count": 42,
   "id": "a8bfc2e2-cdae-4fc7-8dbf-5cc9d4ed64e5",
   "metadata": {},
   "outputs": [
    {
     "data": {
      "text/plain": [
       "[432, 434, 56, 54, 43, 33, 87, 55, 33, 23]"
      ]
     },
     "execution_count": 42,
     "metadata": {},
     "output_type": "execute_result"
    }
   ],
   "source": [
    "l2"
   ]
  },
  {
   "cell_type": "code",
   "execution_count": 44,
   "id": "2d648294-9310-465a-af48-a1d4239dc50b",
   "metadata": {},
   "outputs": [],
   "source": [
    "l = [1,2,3,4,5,5,6]"
   ]
  },
  {
   "cell_type": "code",
   "execution_count": 49,
   "id": "6a9924b0-dc58-4e89-b2aa-dba1ccec8a3c",
   "metadata": {},
   "outputs": [
    {
     "data": {
      "text/plain": [
       "[1, 2, 3, 4, 5]"
      ]
     },
     "execution_count": 49,
     "metadata": {},
     "output_type": "execute_result"
    }
   ],
   "source": [
    "l"
   ]
  },
  {
   "cell_type": "code",
   "execution_count": 51,
   "id": "6d521776-2061-4bf6-822c-8d179dd60a70",
   "metadata": {},
   "outputs": [
    {
     "ename": "TypeError",
     "evalue": "'int' object is not callable",
     "output_type": "error",
     "traceback": [
      "\u001b[1;31m---------------------------------------------------------------------------\u001b[0m",
      "\u001b[1;31mTypeError\u001b[0m                                 Traceback (most recent call last)",
      "Cell \u001b[1;32mIn[51], line 1\u001b[0m\n\u001b[1;32m----> 1\u001b[0m \u001b[38;5;28;43msum\u001b[39;49m\u001b[43m(\u001b[49m\u001b[43ml\u001b[49m\u001b[43m)\u001b[49m\n",
      "\u001b[1;31mTypeError\u001b[0m: 'int' object is not callable"
     ]
    }
   ],
   "source": [
    "sum(l)"
   ]
  },
  {
   "cell_type": "code",
   "execution_count": 52,
   "id": "348de25b-bdf9-4e01-8c89-b2e791e0cdc2",
   "metadata": {},
   "outputs": [],
   "source": [
    "t=(2,5,6,7,8,4,3,2,2)"
   ]
  },
  {
   "cell_type": "code",
   "execution_count": 53,
   "id": "b091daaa-2948-41f5-9d5e-faa153af9817",
   "metadata": {},
   "outputs": [
    {
     "name": "stdout",
     "output_type": "stream",
     "text": [
      "39\n"
     ]
    }
   ],
   "source": [
    "sum=0\n",
    "for i in t:\n",
    "    sum=sum+i\n",
    "print(sum)"
   ]
  },
  {
   "cell_type": "code",
   "execution_count": 54,
   "id": "86ff43d7-2c61-49db-a11c-59bb93f264a0",
   "metadata": {},
   "outputs": [
    {
     "name": "stdout",
     "output_type": "stream",
     "text": [
      "p\n",
      "w\n",
      "s\n",
      "k\n",
      "i\n",
      "l\n",
      "l\n",
      "s\n"
     ]
    }
   ],
   "source": [
    "s1=\"pwskills\"\n",
    "for i in s1:\n",
    "    print(i)"
   ]
  },
  {
   "cell_type": "code",
   "execution_count": 58,
   "id": "c631d6d7-b18a-4ce6-b683-8590b39e757f",
   "metadata": {},
   "outputs": [
    {
     "name": "stdout",
     "output_type": "stream",
     "text": [
      "s\n",
      "l\n",
      "l\n",
      "i\n",
      "k\n",
      "s\n",
      "w\n",
      "p\n"
     ]
    }
   ],
   "source": [
    "for i in range(len(s1)-1,-1,-1):\n",
    "    print(s1[i])"
   ]
  },
  {
   "cell_type": "code",
   "execution_count": 60,
   "id": "a72ecf18-f20f-489a-b65f-4413e8fa6172",
   "metadata": {},
   "outputs": [],
   "source": [
    "d={\"name\":\"rupali\",\"class\":\"data science master\",\"topic\":[\"python\",\"stats\",\"machine learning\",\"dl\",\"nlp\",\"resume\",\"interview\"]}"
   ]
  },
  {
   "cell_type": "code",
   "execution_count": 61,
   "id": "1efa1c58-e1ee-49c9-9480-ceac9dfef792",
   "metadata": {},
   "outputs": [
    {
     "data": {
      "text/plain": [
       "{'name': 'rupali',\n",
       " 'class': 'data science master',\n",
       " 'topic': ['python',\n",
       "  'stats',\n",
       "  'machine learning',\n",
       "  'dl',\n",
       "  'nlp',\n",
       "  'resume',\n",
       "  'interview']}"
      ]
     },
     "execution_count": 61,
     "metadata": {},
     "output_type": "execute_result"
    }
   ],
   "source": [
    "d"
   ]
  },
  {
   "cell_type": "code",
   "execution_count": 62,
   "id": "428afa12-c992-42d8-a71a-d6f8641da8db",
   "metadata": {},
   "outputs": [
    {
     "data": {
      "text/plain": [
       "dict_keys(['name', 'class', 'topic'])"
      ]
     },
     "execution_count": 62,
     "metadata": {},
     "output_type": "execute_result"
    }
   ],
   "source": [
    "d.keys()"
   ]
  },
  {
   "cell_type": "code",
   "execution_count": 64,
   "id": "40ede0f1-3a16-41a1-ae4a-2231f92c3442",
   "metadata": {},
   "outputs": [
    {
     "name": "stdout",
     "output_type": "stream",
     "text": [
      "rupali\n",
      "data science master\n",
      "['python', 'stats', 'machine learning', 'dl', 'nlp', 'resume', 'interview']\n"
     ]
    }
   ],
   "source": [
    "for i in d.keys():\n",
    "    print(d[i])"
   ]
  },
  {
   "cell_type": "code",
   "execution_count": 65,
   "id": "bf6a9277-9a33-46bd-bb7b-b436b2f7cad0",
   "metadata": {},
   "outputs": [
    {
     "data": {
      "text/plain": [
       "dict_values(['rupali', 'data science master', ['python', 'stats', 'machine learning', 'dl', 'nlp', 'resume', 'interview']])"
      ]
     },
     "execution_count": 65,
     "metadata": {},
     "output_type": "execute_result"
    }
   ],
   "source": [
    "d.values()"
   ]
  },
  {
   "cell_type": "code",
   "execution_count": 66,
   "id": "8a3bdba8-5ad1-437c-836a-f4ce6e93cfea",
   "metadata": {},
   "outputs": [
    {
     "name": "stdout",
     "output_type": "stream",
     "text": [
      "rupali\n",
      "data science master\n",
      "['python', 'stats', 'machine learning', 'dl', 'nlp', 'resume', 'interview']\n"
     ]
    }
   ],
   "source": [
    "for i in d.values():\n",
    "    print(i)"
   ]
  },
  {
   "cell_type": "code",
   "execution_count": 67,
   "id": "6cea9fed-238f-4cbb-9bd5-5cd3e69c043c",
   "metadata": {},
   "outputs": [
    {
     "name": "stdout",
     "output_type": "stream",
     "text": [
      "('name', 'rupali')\n",
      "('class', 'data science master')\n",
      "('topic', ['python', 'stats', 'machine learning', 'dl', 'nlp', 'resume', 'interview'])\n"
     ]
    }
   ],
   "source": [
    "for i in d.items():\n",
    "    print(i)"
   ]
  },
  {
   "cell_type": "code",
   "execution_count": 70,
   "id": "d8eef5e5-2f9c-4cbb-9c33-3a8110494cdd",
   "metadata": {},
   "outputs": [
    {
     "name": "stdout",
     "output_type": "stream",
     "text": [
      "1\n",
      "2\n",
      "3\n",
      "4\n",
      "5\n",
      "6\n",
      "7\n",
      "8\n",
      "9\n",
      "10\n"
     ]
    }
   ],
   "source": [
    "a=1\n",
    "while a<=10:\n",
    "    print(a)\n",
    "    a=a+1"
   ]
  },
  {
   "cell_type": "code",
   "execution_count": 73,
   "id": "f93839ee-e87a-4504-99ba-7d310765d95c",
   "metadata": {},
   "outputs": [
    {
     "name": "stdin",
     "output_type": "stream",
     "text": [
      "Enter your number  4\n"
     ]
    },
    {
     "data": {
      "text/plain": [
       "10"
      ]
     },
     "execution_count": 73,
     "metadata": {},
     "output_type": "execute_result"
    }
   ],
   "source": [
    "n=int(input(\"Enter your number \"))\n",
    "i=0\n",
    "counter=1\n",
    "while counter <= n:\n",
    "    i=i+counter\n",
    "    counter=counter+1\n",
    "i"
   ]
  },
  {
   "cell_type": "code",
   "execution_count": 74,
   "id": "cd47c5b2-0b9d-44b2-9c1f-4ee2bacfc263",
   "metadata": {},
   "outputs": [
    {
     "name": "stdin",
     "output_type": "stream",
     "text": [
      "enter your num 4\n"
     ]
    },
    {
     "name": "stdout",
     "output_type": "stream",
     "text": [
      "24\n"
     ]
    }
   ],
   "source": [
    "num=int(input(\"enter your num\"))\n",
    "factorial=1\n",
    "while num>0:\n",
    "    factorial=factorial*num\n",
    "    num=num-1\n",
    "print(factorial)"
   ]
  },
  {
   "cell_type": "code",
   "execution_count": 76,
   "id": "238988b9-dd6d-41c7-9903-e6cd2178b69e",
   "metadata": {},
   "outputs": [
    {
     "name": "stdin",
     "output_type": "stream",
     "text": [
      "Enter your number 8\n"
     ]
    },
    {
     "name": "stdout",
     "output_type": "stream",
     "text": [
      "40320\n"
     ]
    }
   ],
   "source": [
    "num1=int(input(\"Enter your number\"))\n",
    "factorial=1\n",
    "while num1>0:\n",
    "    factorial=factorial*num1\n",
    "    num1=num1-1\n",
    "print(factorial)"
   ]
  },
  {
   "cell_type": "code",
   "execution_count": 78,
   "id": "004a6202-aa3e-4b7b-8f6b-0fe3033c5665",
   "metadata": {},
   "outputs": [
    {
     "name": "stdin",
     "output_type": "stream",
     "text": [
      "enter your number 5\n"
     ]
    },
    {
     "name": "stdout",
     "output_type": "stream",
     "text": [
      "0\n",
      "1\n",
      "1\n",
      "2\n",
      "3\n"
     ]
    }
   ],
   "source": [
    "num=int(input(\"enter your number\"))\n",
    "a,b=0,1\n",
    "counter=0\n",
    "while counter<num:\n",
    "    print(a)\n",
    "    c=a+b\n",
    "    a=b\n",
    "    b=c\n",
    "    counter=counter+1"
   ]
  },
  {
   "cell_type": "code",
   "execution_count": 80,
   "id": "1bc47ebb-4a37-48ae-aff0-1978534a4b01",
   "metadata": {},
   "outputs": [
    {
     "name": "stdout",
     "output_type": "stream",
     "text": [
      "0\n",
      "1\n",
      "1\n",
      "2\n",
      "3\n",
      "5\n",
      "8\n",
      "13\n",
      "21\n",
      "34\n"
     ]
    }
   ],
   "source": [
    "a,b=0,1\n",
    "for i in range(10):\n",
    "    print(a)\n",
    "    c=a+b\n",
    "    a=b\n",
    "    b=c"
   ]
  },
  {
   "cell_type": "code",
   "execution_count": 82,
   "id": "dead1554-10d5-440e-a20b-f2d068cf0d03",
   "metadata": {},
   "outputs": [
    {
     "data": {
      "text/plain": [
       "'anadnav'"
      ]
     },
     "execution_count": 82,
     "metadata": {},
     "output_type": "execute_result"
    }
   ],
   "source": [
    "b=\"vandana\"\n",
    "b[::-1]"
   ]
  },
  {
   "cell_type": "code",
   "execution_count": null,
   "id": "89d20959-166c-4281-b0be-27470f2de4da",
   "metadata": {},
   "outputs": [],
   "source": [
    "word=input(\"Enter your word\")\n",
    "reverse=\"\"\n",
    "length=len(word)\n",
    "while length>0:\n",
    "    reverse=reverse+word[length-1]\n",
    "    length=length-1\n",
    "print(reverse)"
   ]
  },
  {
   "cell_type": "code",
   "execution_count": null,
   "id": "571ea9c7-8b4d-4b84-bc64-e79908789782",
   "metadata": {},
   "outputs": [],
   "source": []
  },
  {
   "cell_type": "code",
   "execution_count": null,
   "id": "5dfa69ef-1bc1-43b9-947f-25f72c5bad8a",
   "metadata": {},
   "outputs": [],
   "source": []
  },
  {
   "cell_type": "code",
   "execution_count": null,
   "id": "2594112c-4159-45bc-be2e-51ea81199c16",
   "metadata": {},
   "outputs": [],
   "source": []
  },
  {
   "cell_type": "code",
   "execution_count": null,
   "id": "ddbc8e03-7465-4d89-8905-fb66e8773ef4",
   "metadata": {},
   "outputs": [],
   "source": []
  },
  {
   "cell_type": "code",
   "execution_count": null,
   "id": "888f710a-ac73-427d-a20d-45ff305db5dd",
   "metadata": {},
   "outputs": [],
   "source": []
  },
  {
   "cell_type": "code",
   "execution_count": null,
   "id": "8c8772b6-349f-4629-9eb3-4f1a8244c226",
   "metadata": {},
   "outputs": [],
   "source": []
  },
  {
   "cell_type": "code",
   "execution_count": null,
   "id": "3e7c3986-a59a-4d3b-b32d-abcd3332ea44",
   "metadata": {},
   "outputs": [],
   "source": []
  },
  {
   "cell_type": "code",
   "execution_count": null,
   "id": "1fd44000-3b43-49c4-a465-c9cff32cb2ae",
   "metadata": {},
   "outputs": [],
   "source": []
  }
 ],
 "metadata": {
  "kernelspec": {
   "display_name": "Python 3 (ipykernel)",
   "language": "python",
   "name": "python3"
  },
  "language_info": {
   "codemirror_mode": {
    "name": "ipython",
    "version": 3
   },
   "file_extension": ".py",
   "mimetype": "text/x-python",
   "name": "python",
   "nbconvert_exporter": "python",
   "pygments_lexer": "ipython3",
   "version": "3.11.4"
  }
 },
 "nbformat": 4,
 "nbformat_minor": 5
}
