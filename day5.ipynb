{
 "cells": [
  {
   "cell_type": "code",
   "execution_count": 1,
   "id": "896d09c2-81cc-4bf8-9d4b-bb5c11891465",
   "metadata": {},
   "outputs": [
    {
     "name": "stdout",
     "output_type": "stream",
     "text": [
      "this is my room\n"
     ]
    }
   ],
   "source": [
    "print(\"this is my room\")"
   ]
  },
  {
   "cell_type": "code",
   "execution_count": 2,
   "id": "c53a7566-ba2f-4176-883a-d1f309036f84",
   "metadata": {},
   "outputs": [],
   "source": [
    "l=[32,454,45,67]"
   ]
  },
  {
   "cell_type": "code",
   "execution_count": 3,
   "id": "6b2bf744-79f9-499c-82a5-1089c7bb798e",
   "metadata": {},
   "outputs": [
    {
     "data": {
      "text/plain": [
       "list"
      ]
     },
     "execution_count": 3,
     "metadata": {},
     "output_type": "execute_result"
    }
   ],
   "source": [
    "type(l)"
   ]
  },
  {
   "cell_type": "code",
   "execution_count": 5,
   "id": "d7cfde6a-e4c2-47cf-9486-72715f5440a2",
   "metadata": {},
   "outputs": [],
   "source": [
    "def test():\n",
    "    pass"
   ]
  },
  {
   "cell_type": "code",
   "execution_count": 7,
   "id": "38b61cae-e5b7-47d4-8808-da0fa622f074",
   "metadata": {},
   "outputs": [],
   "source": [
    "def test1():\n",
    "    print(\"this is my very very first function\")"
   ]
  },
  {
   "cell_type": "code",
   "execution_count": 8,
   "id": "55b70ff4-bd0e-434d-8608-a9fed1073e10",
   "metadata": {},
   "outputs": [
    {
     "name": "stdout",
     "output_type": "stream",
     "text": [
      "this is my very very first function\n"
     ]
    }
   ],
   "source": [
    "test1()"
   ]
  },
  {
   "cell_type": "code",
   "execution_count": 13,
   "id": "0a7b1bf2-6e38-4025-971b-9cf4be0ad3b4",
   "metadata": {},
   "outputs": [],
   "source": [
    "def test2():\n",
    "    return \"this is my first return\""
   ]
  },
  {
   "cell_type": "code",
   "execution_count": 14,
   "id": "bb288a1c-516c-43ec-a101-5fafbe550df9",
   "metadata": {},
   "outputs": [
    {
     "data": {
      "text/plain": [
       "'this is my first return'"
      ]
     },
     "execution_count": 14,
     "metadata": {},
     "output_type": "execute_result"
    }
   ],
   "source": [
    "test2()"
   ]
  },
  {
   "cell_type": "code",
   "execution_count": 16,
   "id": "1ecb3576-9aa0-4a79-87a4-7b6e672139ff",
   "metadata": {},
   "outputs": [
    {
     "data": {
      "text/plain": [
       "'this is my first return rupali'"
      ]
     },
     "execution_count": 16,
     "metadata": {},
     "output_type": "execute_result"
    }
   ],
   "source": [
    "test2()+\" rupali\""
   ]
  },
  {
   "cell_type": "code",
   "execution_count": 17,
   "id": "65c41fc0-5566-4ef6-8b18-ea826730b306",
   "metadata": {},
   "outputs": [],
   "source": [
    "def test3():\n",
    "    return \"dfdf\",434,[34,565,76]"
   ]
  },
  {
   "cell_type": "code",
   "execution_count": 18,
   "id": "95a423e0-61de-4070-93a0-ecd71ab38970",
   "metadata": {},
   "outputs": [
    {
     "data": {
      "text/plain": [
       "('dfdf', 434, [34, 565, 76])"
      ]
     },
     "execution_count": 18,
     "metadata": {},
     "output_type": "execute_result"
    }
   ],
   "source": [
    "test3()"
   ]
  },
  {
   "cell_type": "code",
   "execution_count": 19,
   "id": "bd081791-4b4f-4b26-8a31-c036a8bb2e04",
   "metadata": {},
   "outputs": [],
   "source": [
    "a,b,c=test3()"
   ]
  },
  {
   "cell_type": "code",
   "execution_count": 20,
   "id": "ccf691c3-d9a8-465a-90ec-77dadd9ce57a",
   "metadata": {},
   "outputs": [
    {
     "data": {
      "text/plain": [
       "'dfdf'"
      ]
     },
     "execution_count": 20,
     "metadata": {},
     "output_type": "execute_result"
    }
   ],
   "source": [
    "a"
   ]
  },
  {
   "cell_type": "code",
   "execution_count": 21,
   "id": "fb7d39f2-c055-492d-9202-3290bc0be34d",
   "metadata": {},
   "outputs": [],
   "source": [
    "a,b=1,3"
   ]
  },
  {
   "cell_type": "code",
   "execution_count": 22,
   "id": "1f62f973-e579-4b13-b621-5d361f4c0d08",
   "metadata": {},
   "outputs": [],
   "source": [
    "def test4():\n",
    "    a=5+6/7\n",
    "    return a"
   ]
  },
  {
   "cell_type": "code",
   "execution_count": 23,
   "id": "8f11b8f2-1726-4ba5-9df2-9efe184a9827",
   "metadata": {},
   "outputs": [
    {
     "data": {
      "text/plain": [
       "5.857142857142857"
      ]
     },
     "execution_count": 23,
     "metadata": {},
     "output_type": "execute_result"
    }
   ],
   "source": [
    "test4()"
   ]
  },
  {
   "cell_type": "code",
   "execution_count": 24,
   "id": "2fbc58e7-78ee-4762-9d30-fb3b1c34fd92",
   "metadata": {},
   "outputs": [],
   "source": [
    "def test5(a,b,c):\n",
    "    d=a+b/c\n",
    "    return d"
   ]
  },
  {
   "cell_type": "code",
   "execution_count": 27,
   "id": "60ca01f0-2ac0-44e8-8eb2-5170d5df4102",
   "metadata": {},
   "outputs": [
    {
     "data": {
      "text/plain": [
       "3.8"
      ]
     },
     "execution_count": 27,
     "metadata": {},
     "output_type": "execute_result"
    }
   ],
   "source": [
    "test5(3,4,5)"
   ]
  },
  {
   "cell_type": "code",
   "execution_count": 28,
   "id": "1f0cc8d8-2cdb-4622-9358-69f2fabb0819",
   "metadata": {},
   "outputs": [],
   "source": [
    "def test6(a,b):\n",
    "    return a+b"
   ]
  },
  {
   "cell_type": "code",
   "execution_count": 29,
   "id": "dfa6e1df-a4f6-4a43-ab0d-2d497f3886e5",
   "metadata": {},
   "outputs": [
    {
     "data": {
      "text/plain": [
       "7"
      ]
     },
     "execution_count": 29,
     "metadata": {},
     "output_type": "execute_result"
    }
   ],
   "source": [
    "test6(3,4)"
   ]
  },
  {
   "cell_type": "code",
   "execution_count": 30,
   "id": "8033399d-b5d4-4cd5-ac09-0426abbd97d4",
   "metadata": {},
   "outputs": [
    {
     "data": {
      "text/plain": [
       "121"
      ]
     },
     "execution_count": 30,
     "metadata": {},
     "output_type": "execute_result"
    }
   ],
   "source": [
    "test6(45,76)"
   ]
  },
  {
   "cell_type": "code",
   "execution_count": 31,
   "id": "b1fab6e0-9c29-485f-bc83-7ce59e51fd20",
   "metadata": {},
   "outputs": [
    {
     "data": {
      "text/plain": [
       "'dfsdfdfgds'"
      ]
     },
     "execution_count": 31,
     "metadata": {},
     "output_type": "execute_result"
    }
   ],
   "source": [
    "test6(\"dfsdf\",\"dfgds\")"
   ]
  },
  {
   "cell_type": "code",
   "execution_count": 32,
   "id": "7b058a8f-cada-4fa1-8569-5c2c91887bca",
   "metadata": {},
   "outputs": [
    {
     "data": {
      "text/plain": [
       "[343, 3543, 345, 22, 434, 34, 36]"
      ]
     },
     "execution_count": 32,
     "metadata": {},
     "output_type": "execute_result"
    }
   ],
   "source": [
    "test6([343,3543,345,22],[434,34,36])"
   ]
  },
  {
   "cell_type": "code",
   "execution_count": null,
   "id": "b4f599b0-7632-433c-934b-08b3b61e8c78",
   "metadata": {},
   "outputs": [],
   "source": [
    "l=[1,2,3,4,5,6,\"rupali\",[45,33,7])"
   ]
  },
  {
   "cell_type": "code",
   "execution_count": 37,
   "id": "b2eefeb9-d4f5-47ee-b61c-e72be7c6d611",
   "metadata": {},
   "outputs": [],
   "source": [
    "l1=[]\n",
    "for i in l:\n",
    "    if type(i)==int or type(i)==float:\n",
    "        l1.append(i)\n"
   ]
  },
  {
   "cell_type": "code",
   "execution_count": 38,
   "id": "330b65a2-c521-4d9e-b2a4-0167733e8165",
   "metadata": {},
   "outputs": [
    {
     "data": {
      "text/plain": [
       "[32, 454, 45, 67]"
      ]
     },
     "execution_count": 38,
     "metadata": {},
     "output_type": "execute_result"
    }
   ],
   "source": [
    "l1"
   ]
  },
  {
   "cell_type": "code",
   "execution_count": 46,
   "id": "63878563-147c-40f2-8254-d05c70c2887e",
   "metadata": {},
   "outputs": [],
   "source": [
    "def test7(l):\n",
    "    l1=[]\n",
    "    for i in l:\n",
    "        if type(i)==list:\n",
    "            for j in i:\n",
    "                l1.append(i)\n",
    "        else:\n",
    "            if type(i)==int or type(i)==float:\n",
    "                l1.append(i)\n",
    "    return l1"
   ]
  },
  {
   "cell_type": "code",
   "execution_count": 47,
   "id": "c1ff9eef-8e63-44ef-aab1-9178ca84b336",
   "metadata": {},
   "outputs": [],
   "source": [
    "def test7(l):\n",
    "    \"\"\"this is my function to extract num data type\"\"\"\n",
    "    l1=[]\n",
    "    for i in l:\n",
    "        if type(i)==list:\n",
    "            for j in i:\n",
    "                l1.append(i)\n",
    "        else:\n",
    "            if type(i)==int or type(i)==float:\n",
    "                l1.append(i)\n",
    "    return l1"
   ]
  },
  {
   "cell_type": "code",
   "execution_count": 48,
   "id": "b4fb628a-0309-4728-9e06-5a70bb0d6909",
   "metadata": {},
   "outputs": [
    {
     "data": {
      "text/plain": [
       "[32, 454, 45, 67]"
      ]
     },
     "execution_count": 48,
     "metadata": {},
     "output_type": "execute_result"
    }
   ],
   "source": [
    "test7(l)"
   ]
  },
  {
   "cell_type": "code",
   "execution_count": 50,
   "id": "c11c46c3-878f-43e2-babe-738691c0f520",
   "metadata": {},
   "outputs": [],
   "source": [
    "def test8(*args):\n",
    "    return args"
   ]
  },
  {
   "cell_type": "code",
   "execution_count": 51,
   "id": "28ec0a37-2d71-42d0-9d77-3b71da7fba9b",
   "metadata": {},
   "outputs": [
    {
     "data": {
      "text/plain": [
       "(1, 2, 3)"
      ]
     },
     "execution_count": 51,
     "metadata": {},
     "output_type": "execute_result"
    }
   ],
   "source": [
    "test8(1,2,3)"
   ]
  },
  {
   "cell_type": "code",
   "execution_count": 52,
   "id": "dd80656d-ee34-4fc3-8eee-d0f313cc4468",
   "metadata": {},
   "outputs": [
    {
     "data": {
      "text/plain": [
       "(34, 67, 'fgfg', 343)"
      ]
     },
     "execution_count": 52,
     "metadata": {},
     "output_type": "execute_result"
    }
   ],
   "source": [
    "test8(34,67,\"fgfg\",343)"
   ]
  },
  {
   "cell_type": "code",
   "execution_count": 54,
   "id": "612b789a-082b-483c-b3d9-08c7bcfe03fb",
   "metadata": {},
   "outputs": [],
   "source": [
    "def test9(*args,a):\n",
    "    return args,a"
   ]
  },
  {
   "cell_type": "code",
   "execution_count": 55,
   "id": "e1334288-8ac1-4bf5-8ad4-edf9dc70e241",
   "metadata": {},
   "outputs": [
    {
     "data": {
      "text/plain": [
       "((1, 5, 7, 5), 12)"
      ]
     },
     "execution_count": 55,
     "metadata": {},
     "output_type": "execute_result"
    }
   ],
   "source": [
    "test9(1,5,7,5, a=12)"
   ]
  },
  {
   "cell_type": "code",
   "execution_count": 56,
   "id": "08650205-9659-4e14-9012-954be28ad94a",
   "metadata": {},
   "outputs": [],
   "source": [
    "def test9(c,d,a=23,b=456):\n",
    "    return a,b,c,d"
   ]
  },
  {
   "cell_type": "code",
   "execution_count": 57,
   "id": "a92fc333-e7b7-4494-b244-74a2493cf887",
   "metadata": {},
   "outputs": [
    {
     "data": {
      "text/plain": [
       "(23, 456, 6, 9)"
      ]
     },
     "execution_count": 57,
     "metadata": {},
     "output_type": "execute_result"
    }
   ],
   "source": [
    "test9(6,9)"
   ]
  },
  {
   "cell_type": "code",
   "execution_count": 59,
   "id": "927c6502-5a11-4dbf-a435-be8cd702968f",
   "metadata": {},
   "outputs": [],
   "source": [
    "def test10(**kwargs):\n",
    "    return kwargs"
   ]
  },
  {
   "cell_type": "code",
   "execution_count": 61,
   "id": "896b90c6-953d-4e31-86d2-af3db7a3d9c1",
   "metadata": {},
   "outputs": [
    {
     "data": {
      "text/plain": [
       "{}"
      ]
     },
     "execution_count": 61,
     "metadata": {},
     "output_type": "execute_result"
    }
   ],
   "source": [
    "test10()"
   ]
  },
  {
   "cell_type": "code",
   "execution_count": 63,
   "id": "281f6ed5-2de8-4880-a969-bf9106fc8201",
   "metadata": {},
   "outputs": [
    {
     "data": {
      "text/plain": [
       "dict"
      ]
     },
     "execution_count": 63,
     "metadata": {},
     "output_type": "execute_result"
    }
   ],
   "source": [
    "type(test10())"
   ]
  },
  {
   "cell_type": "code",
   "execution_count": 64,
   "id": "9b6159d3-9a47-4ccb-a9ce-9ab1e70116bd",
   "metadata": {},
   "outputs": [
    {
     "data": {
      "text/plain": [
       "{'a': [1, 3, 4, 5], 'b': 'rupali', 'c': 34.7}"
      ]
     },
     "execution_count": 64,
     "metadata": {},
     "output_type": "execute_result"
    }
   ],
   "source": [
    "test10(a=[1,3,4,5],b=\"rupali\",c=34.7)"
   ]
  },
  {
   "cell_type": "code",
   "execution_count": 65,
   "id": "37e0c48d-c4b9-4029-b99b-b050fd94bde8",
   "metadata": {},
   "outputs": [],
   "source": [
    "l=[12,544,343,23]\n",
    "l1=[]\n",
    "for i in l:\n",
    "    l1.append(i**2)\n"
   ]
  },
  {
   "cell_type": "code",
   "execution_count": 66,
   "id": "348cbd0a-95b7-46a7-9cc9-af02847c3ccc",
   "metadata": {},
   "outputs": [
    {
     "data": {
      "text/plain": [
       "[144, 295936, 117649, 529]"
      ]
     },
     "execution_count": 66,
     "metadata": {},
     "output_type": "execute_result"
    }
   ],
   "source": [
    "l1"
   ]
  },
  {
   "cell_type": "code",
   "execution_count": 67,
   "id": "6393f28c-bd75-43f3-b049-4c8ccc53c8bd",
   "metadata": {},
   "outputs": [
    {
     "data": {
      "text/plain": [
       "[144, 295936, 117649, 529]"
      ]
     },
     "execution_count": 67,
     "metadata": {},
     "output_type": "execute_result"
    }
   ],
   "source": [
    "#Comprehension\n",
    "[i**2 for i in l]"
   ]
  },
  {
   "cell_type": "code",
   "execution_count": 71,
   "id": "875c5595-1d7b-4724-9ea2-00d57a9d74b6",
   "metadata": {},
   "outputs": [
    {
     "data": {
      "text/plain": [
       "[12, 544]"
      ]
     },
     "execution_count": 71,
     "metadata": {},
     "output_type": "execute_result"
    }
   ],
   "source": [
    "[i for i in l if i%2==0]"
   ]
  },
  {
   "cell_type": "code",
   "execution_count": 72,
   "id": "7a191f60-6758-4282-8dad-497f6761b6a7",
   "metadata": {},
   "outputs": [],
   "source": [
    "l1=[\"vandana\",\"data science\",\"pwskills\"]"
   ]
  },
  {
   "cell_type": "code",
   "execution_count": 74,
   "id": "7954399b-5a98-4ec4-b5b4-1f91cf3270bb",
   "metadata": {},
   "outputs": [
    {
     "data": {
      "text/plain": [
       "['VANDANA', 'DATA SCIENCE', 'PWSKILLS']"
      ]
     },
     "execution_count": 74,
     "metadata": {},
     "output_type": "execute_result"
    }
   ],
   "source": [
    "[i.upper() for i in l1]"
   ]
  },
  {
   "cell_type": "code",
   "execution_count": 75,
   "id": "f8848bfe-41e1-4a9b-bac8-ff2704aa6fdf",
   "metadata": {},
   "outputs": [
    {
     "data": {
      "text/plain": [
       "['vandana', 'data science', 'pwskills']"
      ]
     },
     "execution_count": 75,
     "metadata": {},
     "output_type": "execute_result"
    }
   ],
   "source": [
    "l1"
   ]
  },
  {
   "cell_type": "code",
   "execution_count": 76,
   "id": "acffbda7-e5c9-4253-a1b6-66c9812c345c",
   "metadata": {},
   "outputs": [
    {
     "data": {
      "text/plain": [
       "[12, 544, 343, 23]"
      ]
     },
     "execution_count": 76,
     "metadata": {},
     "output_type": "execute_result"
    }
   ],
   "source": [
    "l"
   ]
  },
  {
   "cell_type": "code",
   "execution_count": 78,
   "id": "a1d77b3b-dd8e-48d2-8cdd-e159d0245f17",
   "metadata": {},
   "outputs": [
    {
     "data": {
      "text/plain": [
       "[144, 295936, 117649, 529]"
      ]
     },
     "execution_count": 78,
     "metadata": {},
     "output_type": "execute_result"
    }
   ],
   "source": [
    "list(i**2 for i in l)"
   ]
  },
  {
   "cell_type": "code",
   "execution_count": 79,
   "id": "41c2f30d-1b77-49a2-950f-0e4ec0727d96",
   "metadata": {},
   "outputs": [],
   "source": [
    "d={\"key\":1,\"key2\":2,\"key3\":3,\"key4\":4}"
   ]
  },
  {
   "cell_type": "code",
   "execution_count": 80,
   "id": "ace64d0d-cc72-428f-a90a-b042f6179b31",
   "metadata": {},
   "outputs": [
    {
     "data": {
      "text/plain": [
       "{'key': 1, 'key2': 4, 'key3': 9, 'key4': 16}"
      ]
     },
     "execution_count": 80,
     "metadata": {},
     "output_type": "execute_result"
    }
   ],
   "source": [
    "{k:v**2 for k,v in d.items()}"
   ]
  },
  {
   "cell_type": "code",
   "execution_count": 81,
   "id": "1a196bbf-331f-4b36-843f-677778bc5ce4",
   "metadata": {},
   "outputs": [
    {
     "data": {
      "text/plain": [
       "{'key2': 2, 'key3': 3, 'key4': 4}"
      ]
     },
     "execution_count": 81,
     "metadata": {},
     "output_type": "execute_result"
    }
   ],
   "source": [
    "{k:v for k,v in d.items() if v>1}"
   ]
  },
  {
   "cell_type": "code",
   "execution_count": 83,
   "id": "8b1aa5bb-76ac-447f-afb5-4bf541a4a6d1",
   "metadata": {},
   "outputs": [
    {
     "name": "stdout",
     "output_type": "stream",
     "text": [
      "0\n",
      "1\n",
      "2\n",
      "3\n",
      "4\n",
      "5\n",
      "6\n",
      "7\n",
      "8\n",
      "9\n"
     ]
    }
   ],
   "source": [
    "for i in range(10):\n",
    "    print(i)"
   ]
  },
  {
   "cell_type": "code",
   "execution_count": 87,
   "id": "2f5f1da3-6ee1-4027-b056-1589e7f7f034",
   "metadata": {},
   "outputs": [],
   "source": [
    "def fib_test(n):\n",
    "    a,b=0,1\n",
    "    for i in range(n):\n",
    "        yield a\n",
    "        a,b=b,a+b"
   ]
  },
  {
   "cell_type": "code",
   "execution_count": 88,
   "id": "263e114d-b3ca-43aa-8038-ab69385ef168",
   "metadata": {},
   "outputs": [
    {
     "name": "stdout",
     "output_type": "stream",
     "text": [
      "0\n",
      "1\n",
      "1\n",
      "2\n",
      "3\n"
     ]
    }
   ],
   "source": [
    "for i in fib_test(5):\n",
    "    print(i)"
   ]
  },
  {
   "cell_type": "code",
   "execution_count": 89,
   "id": "1b111049-926b-4094-8132-d06fb473f132",
   "metadata": {},
   "outputs": [],
   "source": [
    "s=\"rupali\""
   ]
  },
  {
   "cell_type": "code",
   "execution_count": 90,
   "id": "7412a50a-26d9-48da-a071-028644ac343a",
   "metadata": {},
   "outputs": [],
   "source": [
    "s1=iter(s)"
   ]
  },
  {
   "cell_type": "code",
   "execution_count": 92,
   "id": "1fa91a64-b1f7-4445-a0bb-276ef6ee69f3",
   "metadata": {},
   "outputs": [
    {
     "data": {
      "text/plain": [
       "'r'"
      ]
     },
     "execution_count": 92,
     "metadata": {},
     "output_type": "execute_result"
    }
   ],
   "source": [
    "next(s1)"
   ]
  },
  {
   "cell_type": "code",
   "execution_count": 94,
   "id": "91802fa6-32b0-4a09-992a-af5d44c666de",
   "metadata": {},
   "outputs": [],
   "source": [
    "def test13(n,p):\n",
    "    return n**p"
   ]
  },
  {
   "cell_type": "code",
   "execution_count": 95,
   "id": "d722100e-35f2-444f-983a-16bfff76ac17",
   "metadata": {},
   "outputs": [
    {
     "data": {
      "text/plain": [
       "8"
      ]
     },
     "execution_count": 95,
     "metadata": {},
     "output_type": "execute_result"
    }
   ],
   "source": [
    "test13(2,3)"
   ]
  },
  {
   "cell_type": "code",
   "execution_count": 96,
   "id": "6c54c6c7-c0c8-4f32-a110-d827d01fb015",
   "metadata": {},
   "outputs": [],
   "source": [
    "a=lambda n,p:n**p"
   ]
  },
  {
   "cell_type": "code",
   "execution_count": 97,
   "id": "8c8ffaad-658c-4b68-9e68-8a5392fc2c89",
   "metadata": {},
   "outputs": [
    {
     "data": {
      "text/plain": [
       "8"
      ]
     },
     "execution_count": 97,
     "metadata": {},
     "output_type": "execute_result"
    }
   ],
   "source": [
    "a(2,3)"
   ]
  },
  {
   "cell_type": "code",
   "execution_count": 98,
   "id": "4e03edf5-ae11-4b26-980f-5f39a19bf6a8",
   "metadata": {},
   "outputs": [],
   "source": [
    "add=lambda x,y :x+y"
   ]
  },
  {
   "cell_type": "code",
   "execution_count": 99,
   "id": "f67a1173-4815-4a03-b5b5-fc91922c5ae7",
   "metadata": {},
   "outputs": [
    {
     "data": {
      "text/plain": [
       "14"
      ]
     },
     "execution_count": 99,
     "metadata": {},
     "output_type": "execute_result"
    }
   ],
   "source": [
    "add(6,8)"
   ]
  },
  {
   "cell_type": "code",
   "execution_count": 100,
   "id": "e936a931-6ce2-44f5-bc2b-c07a2fac4b59",
   "metadata": {},
   "outputs": [],
   "source": [
    "c_to_f=lambda c:(9/5)*c+32"
   ]
  },
  {
   "cell_type": "code",
   "execution_count": 101,
   "id": "7e659850-fd67-4b76-8766-3c4e3482533f",
   "metadata": {},
   "outputs": [
    {
     "data": {
      "text/plain": [
       "113.0"
      ]
     },
     "execution_count": 101,
     "metadata": {},
     "output_type": "execute_result"
    }
   ],
   "source": [
    "c_to_f(45)"
   ]
  },
  {
   "cell_type": "code",
   "execution_count": 102,
   "id": "40bfe5b8-1997-4243-96f3-ad213c422e27",
   "metadata": {},
   "outputs": [],
   "source": [
    "max=lambda x,y:x if x>y else y"
   ]
  },
  {
   "cell_type": "code",
   "execution_count": 103,
   "id": "18cb3d3a-a674-4b0c-b4ca-d07e19e32de2",
   "metadata": {},
   "outputs": [
    {
     "data": {
      "text/plain": [
       "7"
      ]
     },
     "execution_count": 103,
     "metadata": {},
     "output_type": "execute_result"
    }
   ],
   "source": [
    "max(6,7)"
   ]
  },
  {
   "cell_type": "code",
   "execution_count": 104,
   "id": "0436b02b-3f64-4095-a938-a525e00a11c1",
   "metadata": {},
   "outputs": [
    {
     "data": {
      "text/plain": [
       "465"
      ]
     },
     "execution_count": 104,
     "metadata": {},
     "output_type": "execute_result"
    }
   ],
   "source": [
    "max(34,465)"
   ]
  },
  {
   "cell_type": "code",
   "execution_count": 114,
   "id": "e0865f43-d87c-4d3e-a3ee-26b39abf9ca5",
   "metadata": {},
   "outputs": [],
   "source": [
    "min =lambda a,b: a if a<b else b"
   ]
  },
  {
   "cell_type": "code",
   "execution_count": 115,
   "id": "31f032f1-b803-4de1-80a9-908dc1e11271",
   "metadata": {},
   "outputs": [
    {
     "data": {
      "text/plain": [
       "6"
      ]
     },
     "execution_count": 115,
     "metadata": {},
     "output_type": "execute_result"
    }
   ],
   "source": [
    "min(6,9)"
   ]
  },
  {
   "cell_type": "code",
   "execution_count": 106,
   "id": "ebcc51ed-cec6-494f-a349-0b0fcc829607",
   "metadata": {},
   "outputs": [],
   "source": [
    "s=\"dcsddd\""
   ]
  },
  {
   "cell_type": "code",
   "execution_count": 107,
   "id": "27874815-67c8-4a00-a834-3625ddf43b39",
   "metadata": {},
   "outputs": [],
   "source": [
    "f_l=lambda s:len(s)"
   ]
  },
  {
   "cell_type": "code",
   "execution_count": 108,
   "id": "195e2d98-fccc-4bcb-9fe4-325418a6877e",
   "metadata": {},
   "outputs": [
    {
     "data": {
      "text/plain": [
       "6"
      ]
     },
     "execution_count": 108,
     "metadata": {},
     "output_type": "execute_result"
    }
   ],
   "source": [
    "f_l(s)"
   ]
  },
  {
   "cell_type": "code",
   "execution_count": null,
   "id": "4402518e-0397-4b67-927a-821960ea51dc",
   "metadata": {},
   "outputs": [],
   "source": []
  }
 ],
 "metadata": {
  "kernelspec": {
   "display_name": "Python 3 (ipykernel)",
   "language": "python",
   "name": "python3"
  },
  "language_info": {
   "codemirror_mode": {
    "name": "ipython",
    "version": 3
   },
   "file_extension": ".py",
   "mimetype": "text/x-python",
   "name": "python",
   "nbconvert_exporter": "python",
   "pygments_lexer": "ipython3",
   "version": "3.11.4"
  }
 },
 "nbformat": 4,
 "nbformat_minor": 5
}
